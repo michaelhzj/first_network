{
 "cells": [
  {
   "cell_type": "code",
   "execution_count": 24,
   "metadata": {
    "collapsed": false
   },
   "outputs": [
    {
     "name": "stdout",
     "output_type": "stream",
     "text": [
      "[[ -3.39193544e-04   8.45613082e-05  -4.60017969e-05   6.60145410e-06]\n",
      " [ -1.01971762e-04   1.28619563e-04   9.88850888e-05   2.74873599e-05]\n",
      " [ -5.40532835e-05   2.46030681e-05   6.71561640e-06   8.04781407e-05]] 0.0001 -6.93906552684e-06\n"
     ]
    }
   ],
   "source": [
    "import numpy as np\n",
    "a=np.random.normal(0.0, 0.0001,(3, 4))\n",
    "b=0.0001\n",
    "\n",
    "c=a.mean()\n",
    "print (a,b,c)\n"
   ]
  },
  {
   "cell_type": "code",
   "execution_count": 57,
   "metadata": {
    "collapsed": false
   },
   "outputs": [
    {
     "ename": "TypeError",
     "evalue": "displayCount() missing 1 required positional argument: 'month'",
     "output_type": "error",
     "traceback": [
      "\u001b[0;31m---------------------------------------------------------------------------\u001b[0m",
      "\u001b[0;31mTypeError\u001b[0m                                 Traceback (most recent call last)",
      "\u001b[0;32m<ipython-input-57-1e982a35fd41>\u001b[0m in \u001b[0;36m<module>\u001b[0;34m()\u001b[0m\n\u001b[1;32m     24\u001b[0m \u001b[1;33m\u001b[0m\u001b[0m\n\u001b[1;32m     25\u001b[0m \u001b[0memp1\u001b[0m \u001b[1;33m=\u001b[0m \u001b[0mEmployee\u001b[0m\u001b[1;33m(\u001b[0m\u001b[1;34m'hzj'\u001b[0m\u001b[1;33m,\u001b[0m\u001b[1;36m10000\u001b[0m\u001b[1;33m,\u001b[0m\u001b[1;36m12\u001b[0m\u001b[1;33m)\u001b[0m\u001b[1;33m\u001b[0m\u001b[0m\n\u001b[0;32m---> 26\u001b[0;31m \u001b[0memp1\u001b[0m\u001b[1;33m.\u001b[0m\u001b[0mdisplayCount\u001b[0m\u001b[1;33m(\u001b[0m\u001b[1;33m)\u001b[0m\u001b[1;33m\u001b[0m\u001b[0m\n\u001b[0m",
      "\u001b[0;31mTypeError\u001b[0m: displayCount() missing 1 required positional argument: 'month'"
     ]
    }
   ],
   "source": [
    "class Employee:\n",
    "   '所有员工的基类'\n",
    "   empCount = 0\n",
    "\n",
    "   def __init__(self, name, salary,month):\n",
    "\n",
    "    self.name = name\n",
    "    self.salary = salary\n",
    "    Employee.empCount += 1\n",
    "    self.t1=salary\n",
    "    def init_inside(month):\n",
    "        year_total_salary = self.salary*month\n",
    "        return year_total_salary\n",
    "    self.year_total_salary = init_inside(month)\n",
    "   def displayCount(self,month):\n",
    "#     print (\"Total Employee %d\"%(Employee.empCount))\n",
    "    self.b=init_inside(month)\n",
    "    return self.b\n",
    "    \n",
    "\n",
    "   def displayEmployee(self):\n",
    "    print (\"Name : \", self.name,  \", Salary: \", self.salary,\"t1:\",self.t1)\n",
    "\n",
    "    \n",
    "emp1 = Employee('hzj',10000,12)\n",
    "emp1.displayCount()"
   ]
  },
  {
   "cell_type": "code",
   "execution_count": 61,
   "metadata": {
    "collapsed": false
   },
   "outputs": [
    {
     "name": "stdout",
     "output_type": "stream",
     "text": [
      "<class 'function'>\n"
     ]
    }
   ],
   "source": [
    "class MyClass:\n",
    "    def __init__(self,a):\n",
    "        def addl(x):\n",
    "            return x+1\n",
    "        self.addfunc = addl\n",
    "        print(type(self.addfunc))\n",
    "cla = MyClass(\"a\")\n"
   ]
  },
  {
   "cell_type": "code",
   "execution_count": null,
   "metadata": {
    "collapsed": true
   },
   "outputs": [],
   "source": []
  }
 ],
 "metadata": {
  "anaconda-cloud": {},
  "kernelspec": {
   "display_name": "Python [conda env:py35]",
   "language": "python",
   "name": "conda-env-py35-py"
  },
  "language_info": {
   "codemirror_mode": {
    "name": "ipython",
    "version": 3
   },
   "file_extension": ".py",
   "mimetype": "text/x-python",
   "name": "python",
   "nbconvert_exporter": "python",
   "pygments_lexer": "ipython3",
   "version": "3.5.2"
  }
 },
 "nbformat": 4,
 "nbformat_minor": 1
}
